{
 "cells": [
  {
   "cell_type": "code",
   "execution_count": 1,
   "id": "threatened-marshall",
   "metadata": {},
   "outputs": [],
   "source": [
    "import pyspark\n",
    "from pyspark.sql import SparkSession\n",
    "from pyspark.sql import functions as F"
   ]
  },
  {
   "cell_type": "markdown",
   "id": "inappropriate-translation",
   "metadata": {},
   "source": [
    "## Start a spark session"
   ]
  },
  {
   "cell_type": "code",
   "execution_count": 2,
   "id": "musical-algeria",
   "metadata": {},
   "outputs": [
    {
     "name": "stderr",
     "output_type": "stream",
     "text": [
      "WARNING: An illegal reflective access operation has occurred\n",
      "WARNING: Illegal reflective access by org.apache.spark.unsafe.Platform (file:/usr/local/spark-3.1.2-bin-hadoop3.2/jars/spark-unsafe_2.12-3.1.2.jar) to constructor java.nio.DirectByteBuffer(long,int)\n",
      "WARNING: Please consider reporting this to the maintainers of org.apache.spark.unsafe.Platform\n",
      "WARNING: Use --illegal-access=warn to enable warnings of further illegal reflective access operations\n",
      "WARNING: All illegal access operations will be denied in a future release\n",
      "21/09/22 03:27:11 WARN NativeCodeLoader: Unable to load native-hadoop library for your platform... using builtin-java classes where applicable\n",
      "Using Spark's default log4j profile: org/apache/spark/log4j-defaults.properties\n",
      "Setting default log level to \"WARN\".\n",
      "To adjust logging level use sc.setLogLevel(newLevel). For SparkR, use setLogLevel(newLevel).\n",
      "21/09/22 03:27:13 WARN Utils: Service 'SparkUI' could not bind on port 4040. Attempting port 4041.\n"
     ]
    }
   ],
   "source": [
    "# if in a EC2 with s3 permission enable\n",
    "# spark = (SparkSession.builder.master(\"local[*]\")  # you can set how much thread by this: local[4] using 4 thread.\n",
    "#         ).getOrCreate()\n",
    "\n",
    "# if has not s3 permission, need to use access key\n",
    "\n",
    "YOUR_AWS_ACCESS_KEY_ID = \"...\"\n",
    "YOUR_AWS_SECRET_KEY = \"...\"\n",
    "YOUR_AWS_SESSION_TOKEN = \"...\"\n",
    "\n",
    "spark = (SparkSession.builder.master(\"local[*]\")\n",
    "         .config('spark.hadoop.fs.s3a.aws.credentials.provider', 'org.apache.hadoop.fs.s3a.TemporaryAWSCredentialsProvider')\n",
    "         .config('spark.hadoop.fs.s3a.access.key', YOUR_AWS_ACCESS_KEY_ID)\n",
    "         .config('spark.hadoop.fs.s3a.secret.key', YOUR_AWS_SECRET_KEY)\n",
    "         .config('spark.hadoop.fs.s3a.session.token', YOUR_AWS_SESSION_TOKEN)\n",
    "        ).getOrCreate()"
   ]
  },
  {
   "cell_type": "markdown",
   "id": "sacred-fight",
   "metadata": {},
   "source": [
    "## Read Data\n",
    "Spark could directly read and write from Amazon s3."
   ]
  },
  {
   "cell_type": "code",
   "execution_count": 3,
   "id": "french-portugal",
   "metadata": {},
   "outputs": [
    {
     "name": "stderr",
     "output_type": "stream",
     "text": [
      "21/09/22 03:27:19 WARN MetricsConfig: Cannot locate configuration: tried hadoop-metrics2-s3a-file-system.properties,hadoop-metrics2.properties\n",
      "                                                                                \r"
     ]
    }
   ],
   "source": [
    "json2_path = \"s3a://shopback-staging-au-orca-data-backup/grouping/latest/spark-demo/json2_20210921_sample_10k.parquet\"\n",
    "\n",
    "json2_df = spark.read.parquet(json2_path)"
   ]
  },
  {
   "cell_type": "code",
   "execution_count": 4,
   "id": "7d24b063-de57-4819-b010-27faa5f4958b",
   "metadata": {},
   "outputs": [
    {
     "name": "stderr",
     "output_type": "stream",
     "text": [
      "                                                                                \r"
     ]
    },
    {
     "data": {
      "text/plain": [
       "9969"
      ]
     },
     "execution_count": 4,
     "metadata": {},
     "output_type": "execute_result"
    }
   ],
   "source": [
    "# count data\n",
    "json2_df.count()"
   ]
  },
  {
   "cell_type": "code",
   "execution_count": 5,
   "id": "58f56ffa-ca0d-43eb-b473-7530a3ea9d9b",
   "metadata": {
    "tags": []
   },
   "outputs": [
    {
     "name": "stderr",
     "output_type": "stream",
     "text": [
      "21/09/22 03:29:51 WARN package: Truncated the string representation of a plan since it was too large. This behavior can be adjusted by setting 'spark.sql.debug.maxToStringFields'.\n",
      "[Stage 3:>                                                          (0 + 1) / 1]\r"
     ]
    },
    {
     "name": "stdout",
     "output_type": "stream",
     "text": [
      "-RECORD 0--------------------------------------------\n",
      " _internalTags                | [PriceUpdated]       \n",
      " _isSameAsMongoDoc            | true                 \n",
      " accessoryScore               | 0.0                  \n",
      " bookScore                    | 0.0                  \n",
      " brand                        | null                 \n",
      " brandId                      | null                 \n",
      " calculatedCashback           | null                 \n",
      " cashback                     | null                 \n",
      " categoriesAnnotation         | null                 \n",
      " categoriesRank1              | null                 \n",
      " categoriesRank1Score         | null                 \n",
      " categoryFinalConfidenceScore | null                 \n",
      " categoryLv1Id                | null                 \n",
      " categoryLv2Id                | null                 \n",
      " categoryLv3Id                | null                 \n",
      " condition                    | 1                    \n",
      " crawledTs                    | 1632182400           \n",
      " currency                     | AUD                  \n",
      " dataSource                   | null                 \n",
      " displayGroupTitle            | AIICIOO Stainless... \n",
      " flashSaleEndTime             | null                 \n",
      " flashSaleStartTime           | null                 \n",
      " groupId                      | amazon:B07X9LL4ST    \n",
      " groupTitle                   | AIICIOO Stainless... \n",
      " imageUrl                     | https://m.media-a... \n",
      " imgproxyHashOriginalSize     | /VEsEACJt1cQ0quLS... \n",
      " imgproxyHashS180             | /JIiIwHCBmB9226kE... \n",
      " imgproxyHashS292             | /J2t3c54cz1s8JnYh... \n",
      " isAdult                      | no                   \n",
      " isCategoryFromDataFeed       | false                \n",
      " isInStock                    | true                 \n",
      " isNotInOrcaCategory          | false                \n",
      " isPetProduct                 | false                \n",
      " isPriceDown                  | false                \n",
      " isPriceDownTs                | 0                    \n",
      " isVoucher                    | false                \n",
      " locationInfo                 | null                 \n",
      " mainProductScore             | 0.9998369216918945   \n",
      " merchant                     | amazon               \n",
      " merchantDisplayName          | Amazon               \n",
      " offerCount                   | 1                    \n",
      " orcaMerchantId               | 18                   \n",
      " originalPrice                | 33.3                 \n",
      " price                        | 33.3                 \n",
      " productRating                | null                 \n",
      " rawBrand                     | AIICIOO              \n",
      " seller                       | Amazon US            \n",
      " sellerRating                 | null                 \n",
      " shippingFee                  | 9.18                 \n",
      " staticScore                  | 0.9029999999999999   \n",
      " subMerchant                  | null                 \n",
      " subMerchantId                | null                 \n",
      " title                        | AIICIOO Stainless... \n",
      " titleLength                  | 120                  \n",
      " updatedAt                    | 2021-09-21T01:06:... \n",
      " url                          | https://www.amazo... \n",
      " x_brand1                     | AIICIOO              \n",
      " x_case_size                  | null                 \n",
      " x_cate1                      |                      \n",
      " x_cate2                      |                      \n",
      " x_desc1                      | Check Valve Size:... \n",
      " x_desc2                      | null                 \n",
      " x_ean                        |                      \n",
      " x_google_cate                | null                 \n",
      " x_gtin                       |                      \n",
      " x_has_isbn                   | false                \n",
      " x_merchant_cate_feature      | null                 \n",
      " x_mpn                        | DGCV-002             \n",
      " x_upc                        |                      \n",
      "only showing top 1 row\n",
      "\n"
     ]
    },
    {
     "name": "stderr",
     "output_type": "stream",
     "text": [
      "                                                                                \r"
     ]
    }
   ],
   "source": [
    "json2_df.show(1, vertical=True)"
   ]
  },
  {
   "cell_type": "code",
   "execution_count": 6,
   "id": "third-minneapolis",
   "metadata": {
    "tags": []
   },
   "outputs": [
    {
     "name": "stderr",
     "output_type": "stream",
     "text": [
      "                                                                                \r"
     ]
    },
    {
     "data": {
      "text/plain": [
       "{'_internalTags': ['PriceUpdated'],\n",
       " '_isSameAsMongoDoc': True,\n",
       " 'accessoryScore': 0.0,\n",
       " 'bookScore': 0.0,\n",
       " 'brand': None,\n",
       " 'brandId': None,\n",
       " 'calculatedCashback': None,\n",
       " 'cashback': None,\n",
       " 'categoriesAnnotation': None,\n",
       " 'categoriesRank1': None,\n",
       " 'categoriesRank1Score': None,\n",
       " 'categoryFinalConfidenceScore': None,\n",
       " 'categoryLv1Id': None,\n",
       " 'categoryLv2Id': None,\n",
       " 'categoryLv3Id': None,\n",
       " 'condition': 1,\n",
       " 'crawledTs': 1632182400,\n",
       " 'currency': 'AUD',\n",
       " 'dataSource': None,\n",
       " 'displayGroupTitle': 'AIICIOO Stainless Steel Check Valve 1/2” NPT Female High Pressure 70 PSI Cracking Pressure One Way Check Valve PTFE Seal',\n",
       " 'flashSaleEndTime': None,\n",
       " 'flashSaleStartTime': None,\n",
       " 'groupId': 'amazon:B07X9LL4ST',\n",
       " 'groupTitle': 'AIICIOO Stainless Steel Check Valve 1/2” NPT Female High Pressure 70 PSI Cracking Pressure One Way Check Valve PTFE Seal',\n",
       " 'imageUrl': 'https://m.media-amazon.com/images/I/41Seus0++rL._SL160_.jpg',\n",
       " 'imgproxyHashOriginalSize': '/VEsEACJt1cQ0quLSK6d8LrmzjECFt3WzZWyNyYaona8/aHR0cHM6Ly9tLm1l/ZGlhLWFtYXpvbi5j/b20vaW1hZ2VzL0kv/NDFTZXVzMCsrckwu/X1NMMTYwXy5qcGc.jpg',\n",
       " 'imgproxyHashS180': '/JIiIwHCBmB9226kE_Q8l2s0M1iamNbnH5jEyrFDm-pM/auto/180/180/no/1/aHR0cHM6Ly9tLm1l/ZGlhLWFtYXpvbi5j/b20vaW1hZ2VzL0kv/NDFTZXVzMCsrckwu/X1NMMTYwXy5qcGc.jpg',\n",
       " 'imgproxyHashS292': '/J2t3c54cz1s8JnYhc3zQr1ZGwrmyB0Od_12tvl7oh4Y/auto/292/292/no/1/aHR0cHM6Ly9tLm1l/ZGlhLWFtYXpvbi5j/b20vaW1hZ2VzL0kv/NDFTZXVzMCsrckwu/X1NMMTYwXy5qcGc.jpg',\n",
       " 'isAdult': 'no',\n",
       " 'isCategoryFromDataFeed': False,\n",
       " 'isInStock': True,\n",
       " 'isNotInOrcaCategory': False,\n",
       " 'isPetProduct': False,\n",
       " 'isPriceDown': False,\n",
       " 'isPriceDownTs': 0,\n",
       " 'isVoucher': False,\n",
       " 'locationInfo': None,\n",
       " 'mainProductScore': 0.9998369216918945,\n",
       " 'merchant': 'amazon',\n",
       " 'merchantDisplayName': 'Amazon',\n",
       " 'offerCount': 1,\n",
       " 'orcaMerchantId': 18,\n",
       " 'originalPrice': 33.3,\n",
       " 'price': 33.3,\n",
       " 'productRating': None,\n",
       " 'rawBrand': 'AIICIOO',\n",
       " 'seller': 'Amazon US',\n",
       " 'sellerRating': None,\n",
       " 'shippingFee': 9.18,\n",
       " 'staticScore': 0.9029999999999999,\n",
       " 'subMerchant': None,\n",
       " 'subMerchantId': None,\n",
       " 'title': 'AIICIOO Stainless Steel Check Valve 1/2” NPT Female High Pressure 70 PSI Cracking Pressure One Way Check Valve PTFE Seal',\n",
       " 'titleLength': 120,\n",
       " 'updatedAt': '2021-09-21T01:06:47.479281',\n",
       " 'url': 'https://www.amazon.com.au/dp/B07X9LL4ST/',\n",
       " 'x_brand1': 'AIICIOO',\n",
       " 'x_case_size': None,\n",
       " 'x_cate1': '',\n",
       " 'x_cate2': '',\n",
       " 'x_desc1': 'Check Valve Size: 1/2 inch NPT female threaded. Check Valve Body Material: stainless steel 316. Made from stainless steel 316 for higher strength and greater corrosion resistance than stainless steel 304 Check Valve Working Temperature:-15℃ to 400℃,seals: NBR, Manufacturer: AIICIOO',\n",
       " 'x_desc2': None,\n",
       " 'x_ean': '',\n",
       " 'x_google_cate': None,\n",
       " 'x_gtin': '',\n",
       " 'x_has_isbn': False,\n",
       " 'x_merchant_cate_feature': None,\n",
       " 'x_mpn': 'DGCV-002',\n",
       " 'x_upc': ''}"
      ]
     },
     "execution_count": 6,
     "metadata": {},
     "output_type": "execute_result"
    }
   ],
   "source": [
    "# check data\n",
    "json2_df.take(1)[0].asDict()"
   ]
  },
  {
   "cell_type": "markdown",
   "id": "closed-shell",
   "metadata": {},
   "source": [
    "## Demo some usage\n",
    "I want to know how many offers by merchant column.\n",
    "\n",
    "Use groupBy on column `merchant` and count."
   ]
  },
  {
   "cell_type": "code",
   "execution_count": 9,
   "id": "5614a846-55e4-4d54-b962-bb9003cb50ca",
   "metadata": {},
   "outputs": [],
   "source": [
    "# groupBy merchant and count\n",
    "stats_df = (\n",
    "    json2_df\n",
    "    .select(\"merchant\")\n",
    "    .groupBy(\"merchant\")\n",
    "    .count()\n",
    ")"
   ]
  },
  {
   "cell_type": "code",
   "execution_count": 10,
   "id": "b303af7b-89db-4e0c-a405-0887e810a91a",
   "metadata": {},
   "outputs": [
    {
     "name": "stderr",
     "output_type": "stream",
     "text": [
      "                                                                                \r"
     ]
    },
    {
     "name": "stdout",
     "output_type": "stream",
     "text": [
      "+--------------------+-----+\n",
      "|            merchant|count|\n",
      "+--------------------+-----+\n",
      "|       kitchen_style|    2|\n",
      "|         rebel_sport|   10|\n",
      "|               iherb|   10|\n",
      "|              wiggle|   10|\n",
      "|          ozgameshop|   32|\n",
      "|   appliances_online|    2|\n",
      "|      shoe_warehouse|    4|\n",
      "|      platypus_shoes|    1|\n",
      "|        under_armour|    1|\n",
      "|              amazon| 3568|\n",
      "|       strawberrynet|    6|\n",
      "|         david-jones|   23|\n",
      "|               apple|    2|\n",
      "|automotive_supers...|   47|\n",
      "|            anaconda|    2|\n",
      "|                myer|   18|\n",
      "|            petstock|    1|\n",
      "|            bing-lee|    1|\n",
      "|            boozebud|    2|\n",
      "|          boohoo_man|   20|\n",
      "+--------------------+-----+\n",
      "only showing top 20 rows\n",
      "\n"
     ]
    }
   ],
   "source": [
    "stats_df.show(20)"
   ]
  },
  {
   "cell_type": "code",
   "execution_count": 11,
   "id": "incident-image",
   "metadata": {},
   "outputs": [
    {
     "name": "stderr",
     "output_type": "stream",
     "text": [
      "[Stage 15:=======================================>              (145 + 8) / 200]\r"
     ]
    },
    {
     "name": "stdout",
     "output_type": "stream",
     "text": [
      "+--------------------+-----+\n",
      "|            merchant|count|\n",
      "+--------------------+-----+\n",
      "|              amazon| 3568|\n",
      "|                ebay| 2142|\n",
      "|               kogan| 1106|\n",
      "|          dick_smith| 1095|\n",
      "|               catch|  629|\n",
      "|     angus_robertson|  548|\n",
      "|          matt_blatt|  166|\n",
      "|              zookal|   87|\n",
      "|           booktopia|   71|\n",
      "|  temple_and_webster|   48|\n",
      "|automotive_supers...|   47|\n",
      "|              sanity|   43|\n",
      "|              boohoo|   36|\n",
      "|           qbd_books|   35|\n",
      "|          the-iconic|   35|\n",
      "|                asos|   34|\n",
      "|        net_a_porter|   33|\n",
      "|          ozgameshop|   32|\n",
      "|         david-jones|   23|\n",
      "|          boohoo_man|   20|\n",
      "+--------------------+-----+\n",
      "only showing top 20 rows\n",
      "\n"
     ]
    },
    {
     "name": "stderr",
     "output_type": "stream",
     "text": [
      "                                                                                \r"
     ]
    }
   ],
   "source": [
    "stats_df.sort(\"count\", ascending=False).show(20)"
   ]
  },
  {
   "cell_type": "code",
   "execution_count": null,
   "id": "1b07611f-b81d-4bf0-aada-d46ba02653ed",
   "metadata": {},
   "outputs": [],
   "source": []
  }
 ],
 "metadata": {
  "kernelspec": {
   "display_name": "Python 3 (ipykernel)",
   "language": "python",
   "name": "python3"
  },
  "language_info": {
   "codemirror_mode": {
    "name": "ipython",
    "version": 3
   },
   "file_extension": ".py",
   "mimetype": "text/x-python",
   "name": "python",
   "nbconvert_exporter": "python",
   "pygments_lexer": "ipython3",
   "version": "3.9.7"
  }
 },
 "nbformat": 4,
 "nbformat_minor": 5
}
